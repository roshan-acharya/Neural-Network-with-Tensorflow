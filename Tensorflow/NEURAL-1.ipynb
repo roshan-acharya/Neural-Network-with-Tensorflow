{
 "cells": [
  {
   "cell_type": "code",
   "execution_count": 2,
   "id": "eedc26a5",
   "metadata": {},
   "outputs": [],
   "source": [
    "import tensorflow as tf \n",
    "import numpy as np\n",
    "v_inputs= 28*28\n",
    "n_hidden1=300\n",
    "n_hidden2=100\n",
    "n_outputs=10\n",
    "\n",
    "X = tf.random.normal(shape=(32, v_inputs))\n",
    "y = tf.random.uniform(shape=(32,), minval=0, maxval=10, dtype=tf.int64)\n",
    "\n",
    "def neuron_layer(X, n_neurons, name, activation=None):\n",
    "    with tf.name_scope(name):\n",
    "        n_inputs=int(X.get_shape()[1])\n",
    "        stddev=2/np.sqrt(n_inputs+n_neurons)\n",
    "        init=tf.random.truncated_normal(shape=(n_inputs,n_neurons),stddev=stddev)\n",
    "        W=tf.Variable(init,name='kernel')\n",
    "        b=tf.Variable(tf.zeros([n_neurons]),name='bias')\n",
    "        Z=tf.matmul(X,W)+b\n",
    "        if activation is not None:\n",
    "            return activation(Z)\n",
    "        else:\n",
    "            return Z\n",
    "\n",
    "with tf.name_scope('dnn'):\n",
    "    hidden1=neuron_layer(X,n_hidden1,name='hidden1', activation=tf.nn.relu)\n",
    "    hidden2=neuron_layer(hidden1,n_hidden2,name='hidden2', activation=tf.nn.relu)\n",
    "    logits=neuron_layer(hidden2, n_outputs,name='outputs')\n",
    "    "
   ]
  },
  {
   "cell_type": "code",
   "execution_count": null,
   "id": "bca2926f",
   "metadata": {},
   "outputs": [],
   "source": [
    "with tf.name_scope('dnn'):\n",
    "    hidden1 = tf.keras.layers.Dense(300, activation='relu', name='hidden1')(X)\n",
    "    hidden2 = tf.keras.layers.Dense(100, activation='relu', name='hidden2')(hidden1)\n",
    "    logits = tf.keras.layers.Dense(10, name='outputs')(hidden2)\n",
    "\n",
    "with tf.name_scope('loss'):\n",
    "    xentropy=tf.nn.sparse_softmax_cross_entropy_with_logits(labels=y,logits=logits)\n",
    "    loss=tf.reduce_mean(xentropy,name='loss')\n",
    "\n",
    "learning_rate=0.01\n",
    "\n",
    "with tf.name_scope('train'):\n",
    "    optimizer=tf.keras.optimizers.SGD(learning_rate=learning_rate)\n",
    "   \n",
    "\n"
   ]
  },
  {
   "cell_type": "code",
   "execution_count": null,
   "id": "48921d9e",
   "metadata": {},
   "outputs": [],
   "source": []
  }
 ],
 "metadata": {
  "kernelspec": {
   "display_name": "tfenv",
   "language": "python",
   "name": "python3"
  },
  "language_info": {
   "codemirror_mode": {
    "name": "ipython",
    "version": 3
   },
   "file_extension": ".py",
   "mimetype": "text/x-python",
   "name": "python",
   "nbconvert_exporter": "python",
   "pygments_lexer": "ipython3",
   "version": "3.11.0"
  }
 },
 "nbformat": 4,
 "nbformat_minor": 5
}
